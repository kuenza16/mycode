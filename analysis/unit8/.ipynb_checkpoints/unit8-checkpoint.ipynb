{
 "cells": [
  {
   "cell_type": "code",
   "execution_count": 2,
   "id": "bfd1d7d2",
   "metadata": {},
   "outputs": [
    {
     "name": "stdout",
     "output_type": "stream",
     "text": [
      "Collecting mysql-connector-python\n",
      "  Downloading mysql_connector_python-8.0.31-cp39-cp39-win_amd64.whl (7.9 MB)\n",
      "     ---------------------------------------- 7.9/7.9 MB 210.6 kB/s eta 0:00:00\n",
      "Requirement already satisfied: protobuf<=3.20.1,>=3.11.0 in c:\\users\\kuen zang\\anaconda3\\lib\\site-packages (from mysql-connector-python) (3.19.1)\n",
      "Installing collected packages: mysql-connector-python\n",
      "Successfully installed mysql-connector-python-8.0.31\n",
      "Note: you may need to restart the kernel to use updated packages.\n"
     ]
    }
   ],
   "source": [
    "pip install mysql-connector-python\n"
   ]
  },
  {
   "cell_type": "code",
   "execution_count": 2,
   "id": "9730f205",
   "metadata": {},
   "outputs": [],
   "source": [
    "import mysql.connector as mysql"
   ]
  },
  {
   "cell_type": "code",
   "execution_count": 12,
   "id": "3820733a",
   "metadata": {},
   "outputs": [],
   "source": [
    "mydb = mysql.connect(host=\"localhost\",user=\"root\",password=\"Kuenzang_123\",database=\"STUDENT\",port=13306)\n"
   ]
  },
  {
   "cell_type": "code",
   "execution_count": 13,
   "id": "205f24fd",
   "metadata": {},
   "outputs": [],
   "source": [
    "mycursor = mydb.cursor()\n",
    "\n"
   ]
  },
  {
   "cell_type": "code",
   "execution_count": null,
   "id": "fa2db0d0",
   "metadata": {},
   "outputs": [],
   "source": [
    "mycursor.execute(\"select LastName,FirstName from Persons\")\n",
    "result = mycursor.fetchall\n",
    "result"
   ]
  },
  {
   "cell_type": "code",
   "execution_count": null,
   "id": "d55be25d",
   "metadata": {
    "scrolled": true
   },
   "outputs": [],
   "source": [
    "LastName = []\n",
    "FirstName = []\n",
    "\n",
    "for i in mycursor:\n",
    "    LastName.append(i[0])\n",
    "    FirstName.append(i[1])\n",
    "    \n",
    "print(\"First Name = \", FirstName)\n",
    "print(\"last Name = \", LastName)"
   ]
  },
  {
   "cell_type": "code",
   "execution_count": null,
   "id": "6aeca7a5",
   "metadata": {},
   "outputs": [],
   "source": [
    "mycursor.execute(\"select LastName,FirstName,Marks from Person\")\n",
    "result = mycursor.fetchall\n",
    "result"
   ]
  },
  {
   "cell_type": "code",
   "execution_count": 11,
   "id": "68f83e7f",
   "metadata": {},
   "outputs": [
    {
     "name": "stdout",
     "output_type": "stream",
     "text": [
      "First Name =  []\n",
      "last Name =  []\n",
      "Marks =  []\n"
     ]
    }
   ],
   "source": [
    "LastName = []\n",
    "FirstName = []\n",
    "Marks = []\n",
    "\n",
    "for i in mycursor:\n",
    "    LastName.append(i[0])\n",
    "    FirstName.append(i[1])\n",
    "    Marks.append(i[2])\n",
    "    \n",
    "print(\"First Name = \", FirstName)\n",
    "print(\"last Name = \", LastName)\n",
    "print(\"Marks = \", Marks)"
   ]
  },
  {
   "cell_type": "code",
   "execution_count": 7,
   "id": "7da0c68d",
   "metadata": {},
   "outputs": [],
   "source": [
    "import matplotlib.pyplot as plt\n",
    "import seaborn as sns\n",
    "import pandas as pd"
   ]
  },
  {
   "cell_type": "code",
   "execution_count": null,
   "id": "b625a861",
   "metadata": {},
   "outputs": [],
   "source": []
  }
 ],
 "metadata": {
  "kernelspec": {
   "display_name": "Python 3 (ipykernel)",
   "language": "python",
   "name": "python3"
  },
  "language_info": {
   "codemirror_mode": {
    "name": "ipython",
    "version": 3
   },
   "file_extension": ".py",
   "mimetype": "text/x-python",
   "name": "python",
   "nbconvert_exporter": "python",
   "pygments_lexer": "ipython3",
   "version": "3.9.12"
  }
 },
 "nbformat": 4,
 "nbformat_minor": 5
}
