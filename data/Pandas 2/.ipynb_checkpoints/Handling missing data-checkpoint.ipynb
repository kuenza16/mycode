{
 "cells": [
  {
   "cell_type": "markdown",
   "id": "04cc3674",
   "metadata": {},
   "source": [
    "A.\tDetect missing values with isnull() / notnull()"
   ]
  },
  {
   "cell_type": "markdown",
   "id": "9890eaaf",
   "metadata": {},
   "source": [
    "Task 1: Detect missing values with isnull() and notnull()"
   ]
  },
  {
   "cell_type": "code",
   "execution_count": null,
   "id": "391aebc7",
   "metadata": {},
   "outputs": [],
   "source": []
  }
 ],
 "metadata": {
  "kernelspec": {
   "display_name": "Python 3 (ipykernel)",
   "language": "python",
   "name": "python3"
  },
  "language_info": {
   "codemirror_mode": {
    "name": "ipython",
    "version": 3
   },
   "file_extension": ".py",
   "mimetype": "text/x-python",
   "name": "python",
   "nbconvert_exporter": "python",
   "pygments_lexer": "ipython3",
   "version": "3.9.12"
  }
 },
 "nbformat": 4,
 "nbformat_minor": 5
}
