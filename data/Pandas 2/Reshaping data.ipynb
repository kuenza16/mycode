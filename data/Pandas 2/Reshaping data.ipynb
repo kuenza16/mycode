{
 "cells": [
  {
   "cell_type": "markdown",
   "id": "c6c7f7e9",
   "metadata": {},
   "source": [
    "A.\tDrop columns/rows from dataframe"
   ]
  },
  {
   "cell_type": "markdown",
   "id": "3910ea8e",
   "metadata": {},
   "source": [
    "Task 1: Drop columns or rows from a dataframe"
   ]
  },
  {
   "cell_type": "code",
   "execution_count": null,
   "id": "67b75d89",
   "metadata": {},
   "outputs": [],
   "source": []
  }
 ],
 "metadata": {
  "kernelspec": {
   "display_name": "Python 3 (ipykernel)",
   "language": "python",
   "name": "python3"
  },
  "language_info": {
   "codemirror_mode": {
    "name": "ipython",
    "version": 3
   },
   "file_extension": ".py",
   "mimetype": "text/x-python",
   "name": "python",
   "nbconvert_exporter": "python",
   "pygments_lexer": "ipython3",
   "version": "3.9.12"
  }
 },
 "nbformat": 4,
 "nbformat_minor": 5
}
