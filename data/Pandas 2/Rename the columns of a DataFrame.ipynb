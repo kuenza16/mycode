{
 "cells": [
  {
   "cell_type": "markdown",
   "id": "32812dd4",
   "metadata": {},
   "source": [
    "Task 1: Rename the columns of a dataframe"
   ]
  },
  {
   "cell_type": "code",
   "execution_count": null,
   "id": "2a1d6596",
   "metadata": {},
   "outputs": [],
   "source": []
  }
 ],
 "metadata": {
  "kernelspec": {
   "display_name": "Python 3 (ipykernel)",
   "language": "python",
   "name": "python3"
  },
  "language_info": {
   "codemirror_mode": {
    "name": "ipython",
    "version": 3
   },
   "file_extension": ".py",
   "mimetype": "text/x-python",
   "name": "python",
   "nbconvert_exporter": "python",
   "pygments_lexer": "ipython3",
   "version": "3.9.12"
  }
 },
 "nbformat": 4,
 "nbformat_minor": 5
}
