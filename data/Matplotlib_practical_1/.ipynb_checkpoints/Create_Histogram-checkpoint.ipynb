{
 "cells": [
  {
   "cell_type": "code",
   "execution_count": 1,
   "id": "b73f5067",
   "metadata": {},
   "outputs": [
    {
     "data": {
      "text/plain": [
       "<AxesSubplot: ylabel='Frequency'>"
      ]
     },
     "execution_count": 1,
     "metadata": {},
     "output_type": "execute_result"
    },
    {
     "data": {
      "image/png": "[encoded data removed]",
      "text/plain": [
       "<Figure size 432x288 with 1 Axes>"
      ]
     },
     "metadata": {
      "needs_background": "light"
     },
     "output_type": "display_data"
    }
   ],
   "source": [
    "import pandas as pd\n",
    "import matplotlib.pyplot as plt\n",
    "data = pd.read_csv(\"dataset\\\\titanic.csv\")\n",
    "data\n",
    "data = data[['pclass','age','survived']]\n",
    "\n",
    "classgrouped = data.groupby(by=\"pclass\")[\"survived\"].count()\n",
    "cl1= data[data[\"pclass\"]==1]\n",
    "class1 =cl1.groupby(by=\"age\")[\"survived\"].count()\n",
    "cl2 = data[data[\"pclass\"]==2]\n",
    "class2 =cl2.groupby(by=\"age\")[\"survived\"].count()\n",
    "cl3 = data[data[\"pclass\"]==3]\n",
    "class3 =cl3.groupby(by=\"age\")[\"survived\"].count()\n",
    "\n",
    "class3.plot(kind='hist',alpha=0.5,bins=20,color='#f1c40f')\n",
    "class2.plot(kind='hist',alpha=0.5,bins=20,color='#3498db')\n",
    "class1.plot(kind='hist',alpha=0.5,bins=20,color='#e74c3c',label=\"1st class\")"
   ]
  },
  {
   "cell_type": "code",
   "execution_count": null,
   "id": "a56d88aa",
   "metadata": {},
   "outputs": [],
   "source": []
  }
 ],
 "metadata": {
  "kernelspec": {
   "display_name": "Python 3 (ipykernel)",
   "language": "python",
   "name": "python3"
  },
  "language_info": {
   "codemirror_mode": {
    "name": "ipython",
    "version": 3
   },
   "file_extension": ".py",
   "mimetype": "text/x-python",
   "name": "python",
   "nbconvert_exporter": "python",
   "pygments_lexer": "ipython3",
   "version": "3.9.12"
  }
 },
 "nbformat": 4,
 "nbformat_minor": 5
}
