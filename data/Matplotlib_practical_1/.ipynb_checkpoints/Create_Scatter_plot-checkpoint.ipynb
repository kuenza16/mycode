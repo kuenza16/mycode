{
 "cells": [
  {
   "cell_type": "code",
   "execution_count": 7,
   "id": "016a1625",
   "metadata": {},
   "outputs": [
    {
     "data": {
      "text/plain": [
       "Text(0, 0.5, 'Weight(kg)')"
      ]
     },
     "execution_count": 7,
     "metadata": {},
     "output_type": "execute_result"
    },
    {
     "data": {
      "image/png": "[encoded data removed]",
      "text/plain": [
       "<Figure size 432x288 with 1 Axes>"
      ]
     },
     "metadata": {
      "needs_background": "light"
     },
     "output_type": "display_data"
    }
   ],
   "source": [
    "import pandas as pd\n",
    "import matplotlib.pyplot as plt\n",
    "\n",
    "heights = [137,140,142,145,147,150,152,155,157,160]\n",
    "f_weights = [28.5,30.8,32.6,34.9,36.4,39,40.8,43.1,44.9,47.2]\n",
    "m_weights = [34.9,38.1,33.5,35.8,46.7, 42.8,43.1,45.8,50.8,58.9]\n",
    "\n",
    "plt.scatter( heights,f_weights, c =\"red\",\n",
    "            marker =\"*\")\n",
    " \n",
    "plt.scatter(heights,m_weights,  c =\"blue\",\n",
    "            marker =\"d\")\n",
    "plt.legend(\"FM\")\n",
    "plt.xlabel(\"Height(cm)\")\n",
    "plt.ylabel(\"Weight(kg)\")"
   ]
  },
  {
   "cell_type": "code",
   "execution_count": null,
   "id": "ba3bafe0",
   "metadata": {},
   "outputs": [],
   "source": []
  }
 ],
 "metadata": {
  "kernelspec": {
   "display_name": "Python 3 (ipykernel)",
   "language": "python",
   "name": "python3"
  },
  "language_info": {
   "codemirror_mode": {
    "name": "ipython",
    "version": 3
   },
   "file_extension": ".py",
   "mimetype": "text/x-python",
   "name": "python",
   "nbconvert_exporter": "python",
   "pygments_lexer": "ipython3",
   "version": "3.9.12"
  }
 },
 "nbformat": 4,
 "nbformat_minor": 5
}
